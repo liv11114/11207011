{
  "nbformat": 4,
  "nbformat_minor": 0,
  "metadata": {
    "colab": {
      "provenance": [],
      "authorship_tag": "ABX9TyOpK81kYei3DfFAiH2uv5d6",
      "include_colab_link": true
    },
    "kernelspec": {
      "name": "python3",
      "display_name": "Python 3"
    },
    "language_info": {
      "name": "python"
    }
  },
  "cells": [
    {
      "cell_type": "markdown",
      "metadata": {
        "id": "view-in-github",
        "colab_type": "text"
      },
      "source": [
        "<a href=\"https://colab.research.google.com/github/liv11114/11207011/blob/main/%E7%88%AC%E8%9F%B2%E4%BD%9C%E6%A5%AD_11133214_%E5%BC%B5%E9%83%81%E7%8F%AE.ipynb\" target=\"_parent\"><img src=\"https://colab.research.google.com/assets/colab-badge.svg\" alt=\"Open In Colab\"/></a>"
      ]
    },
    {
      "cell_type": "markdown",
      "source": [
        "# PTT韓團爬蟲"
      ],
      "metadata": {
        "id": "WYBhVkVTQmIa"
      }
    },
    {
      "cell_type": "code",
      "execution_count": 1,
      "metadata": {
        "id": "Paco29ehP43f",
        "colab": {
          "base_uri": "https://localhost:8080/",
          "height": 35
        },
        "outputId": "e02d391b-ea7a-4e78-d74f-2e6fa502cacb"
      },
      "outputs": [
        {
          "output_type": "execute_result",
          "data": {
            "text/plain": [
              "'看板 KR_Bands 文章列表 - 批踢踢實業坊'"
            ],
            "application/vnd.google.colaboratory.intrinsic+json": {
              "type": "string"
            }
          },
          "metadata": {},
          "execution_count": 1
        }
      ],
      "source": [
        "import requests\n",
        "from bs4 import BeautifulSoup\n",
        "url = 'https://www.ptt.cc/bbs/KR_Bands/index.html'    # PTT 韓團 網頁\n",
        "r = requests.get(url)\n",
        "sp = BeautifulSoup(r.text, 'html.parser')\n",
        "sp.title.text"
      ]
    },
    {
      "cell_type": "code",
      "source": [
        "datas = sp.find_all(\"div\", class_=\"title\")\n",
        "for data in datas:\n",
        "    adata = data.find(\"a\")\n",
        "    if adata is not None:\n",
        "       print(\"http://www.ptt.cc\" + adata['href'], adata.text)"
      ],
      "metadata": {
        "colab": {
          "base_uri": "https://localhost:8080/"
        },
        "id": "vcZn-TT9Qlzq",
        "outputId": "5795e6cc-a7bd-4833-fce2-38b8a835d7ab"
      },
      "execution_count": 2,
      "outputs": [
        {
          "output_type": "stream",
          "name": "stdout",
          "text": [
            "http://www.ptt.cc/bbs/KR_Bands/M.1693324272.A.F47.html [影音] CHASEDAE - BLUE GIANT\n",
            "http://www.ptt.cc/bbs/KR_Bands/M.1693324343.A.B0D.html [影音] 河鉉雨 - Go Ahead (戲劇OST)\n",
            "http://www.ptt.cc/bbs/KR_Bands/M.1693324446.A.09C.html [影音] Isaac Hong - Shoot At Me\n",
            "http://www.ptt.cc/bbs/KR_Bands/M.1693474469.A.DB6.html [影音] ONEWE - 東西南北\n",
            "http://www.ptt.cc/bbs/KR_Bands/M.1693492255.A.555.html [情報] ADOY - PLEASURES\n",
            "http://www.ptt.cc/bbs/KR_Bands/M.1693753725.A.C44.html [影音] Guckkasten正規三新曲Angstblute搶先聽！\n",
            "http://www.ptt.cc/bbs/KR_Bands/M.1694352567.A.E01.html [影音] Sion - 走在記憶的時間 (ft. 10CM)\n",
            "http://www.ptt.cc/bbs/KR_Bands/M.1694352610.A.AE1.html [影音] off the menu - Cherokee\n",
            "http://www.ptt.cc/bbs/KR_Bands/M.1696741725.A.1D6.html [影音] JANNABI - 2023 PARK CONCERT LIVE\n",
            "http://www.ptt.cc/bbs/KR_Bands/M.1697357715.A.A47.html [情報] 2023 9-10月 韓國樂團情報\n",
            "http://www.ptt.cc/bbs/KR_Bands/M.1699178163.A.F37.html [情報] 五月五日 正規一輯 [Campo] \n",
            "http://www.ptt.cc/bbs/KR_Bands/M.1577027498.A.E05.html [公告] Kr_Bands板規(2019.12.22)\n",
            "http://www.ptt.cc/bbs/KR_Bands/M.1577029873.A.32B.html [情報] SuperBand相關整理\n",
            "http://www.ptt.cc/bbs/KR_Bands/M.1577813583.A.298.html [公告] Kr_Bands一月閒聊區\n"
          ]
        }
      ]
    },
    {
      "cell_type": "code",
      "source": [
        "datas = sp.find_all(\"div\", class_='r-ent')\n",
        "for data in datas:\n",
        "    adate = data.find('div', class_='date')\n",
        "    adata = data.find(\"a\")\n",
        "    if adate and adata is not None:\n",
        "       #日期\n",
        "       print(adate.text, end=' ')\n",
        "       print(\"http://www.ptt.cc\" + adata['href'], adata.text)"
      ],
      "metadata": {
        "colab": {
          "base_uri": "https://localhost:8080/"
        },
        "id": "Bdz8knRFRgzu",
        "outputId": "8380d4b7-70c2-4ce5-be4d-50d971471840"
      },
      "execution_count": 3,
      "outputs": [
        {
          "output_type": "stream",
          "name": "stdout",
          "text": [
            " 8/29 http://www.ptt.cc/bbs/KR_Bands/M.1693324272.A.F47.html [影音] CHASEDAE - BLUE GIANT\n",
            " 8/29 http://www.ptt.cc/bbs/KR_Bands/M.1693324343.A.B0D.html [影音] 河鉉雨 - Go Ahead (戲劇OST)\n",
            " 8/29 http://www.ptt.cc/bbs/KR_Bands/M.1693324446.A.09C.html [影音] Isaac Hong - Shoot At Me\n",
            " 8/31 http://www.ptt.cc/bbs/KR_Bands/M.1693474469.A.DB6.html [影音] ONEWE - 東西南北\n",
            " 8/31 http://www.ptt.cc/bbs/KR_Bands/M.1693492255.A.555.html [情報] ADOY - PLEASURES\n",
            " 9/03 http://www.ptt.cc/bbs/KR_Bands/M.1693753725.A.C44.html [影音] Guckkasten正規三新曲Angstblute搶先聽！\n",
            " 9/10 http://www.ptt.cc/bbs/KR_Bands/M.1694352567.A.E01.html [影音] Sion - 走在記憶的時間 (ft. 10CM)\n",
            " 9/10 http://www.ptt.cc/bbs/KR_Bands/M.1694352610.A.AE1.html [影音] off the menu - Cherokee\n",
            "10/08 http://www.ptt.cc/bbs/KR_Bands/M.1696741725.A.1D6.html [影音] JANNABI - 2023 PARK CONCERT LIVE\n",
            "10/15 http://www.ptt.cc/bbs/KR_Bands/M.1697357715.A.A47.html [情報] 2023 9-10月 韓國樂團情報\n",
            "11/05 http://www.ptt.cc/bbs/KR_Bands/M.1699178163.A.F37.html [情報] 五月五日 正規一輯 [Campo] \n",
            "12/22 http://www.ptt.cc/bbs/KR_Bands/M.1577027498.A.E05.html [公告] Kr_Bands板規(2019.12.22)\n",
            "12/22 http://www.ptt.cc/bbs/KR_Bands/M.1577029873.A.32B.html [情報] SuperBand相關整理\n",
            " 1/01 http://www.ptt.cc/bbs/KR_Bands/M.1577813583.A.298.html [公告] Kr_Bands一月閒聊區\n"
          ]
        }
      ]
    },
    {
      "cell_type": "code",
      "source": [
        "import requests\n",
        "from bs4 import BeautifulSoup\n",
        "url = 'https://www.ptt.cc/bbs/KR_Bands/index.html'    # PTT 韓團 Web page\n",
        "\n",
        "for i in range(5):\n",
        "    print(f\"第 {i+1} 頁\")\n",
        "    r = requests.get(url)\n",
        "    sp = BeautifulSoup(r.text, 'html.parser')\n",
        "    datas = sp.find_all(\"div\", class_='r-ent')\n",
        "    for data in datas:\n",
        "        if data.a:\n",
        "            print(data.find('div', class_='date').text, end=' ')\n",
        "            print('https://www.ptt.cc' + data.a.get('href'), end= ' ')\n",
        "            print(data.a.text)\n",
        "    url ='https://www.ptt.cc' + sp.find_all('a', class_='btn wide')[1].get('href')    # 索引值[1] 為「<上頁」... 日期遞減"
      ],
      "metadata": {
        "colab": {
          "base_uri": "https://localhost:8080/"
        },
        "id": "KUQ1REV2RrR2",
        "outputId": "3dec3351-9fde-4141-a3eb-d64461d53ce3"
      },
      "execution_count": 4,
      "outputs": [
        {
          "output_type": "stream",
          "name": "stdout",
          "text": [
            "第 1 頁\n",
            " 8/29 https://www.ptt.cc/bbs/KR_Bands/M.1693324272.A.F47.html [影音] CHASEDAE - BLUE GIANT\n",
            " 8/29 https://www.ptt.cc/bbs/KR_Bands/M.1693324343.A.B0D.html [影音] 河鉉雨 - Go Ahead (戲劇OST)\n",
            " 8/29 https://www.ptt.cc/bbs/KR_Bands/M.1693324446.A.09C.html [影音] Isaac Hong - Shoot At Me\n",
            " 8/31 https://www.ptt.cc/bbs/KR_Bands/M.1693474469.A.DB6.html [影音] ONEWE - 東西南北\n",
            " 8/31 https://www.ptt.cc/bbs/KR_Bands/M.1693492255.A.555.html [情報] ADOY - PLEASURES\n",
            " 9/03 https://www.ptt.cc/bbs/KR_Bands/M.1693753725.A.C44.html [影音] Guckkasten正規三新曲Angstblute搶先聽！\n",
            " 9/10 https://www.ptt.cc/bbs/KR_Bands/M.1694352567.A.E01.html [影音] Sion - 走在記憶的時間 (ft. 10CM)\n",
            " 9/10 https://www.ptt.cc/bbs/KR_Bands/M.1694352610.A.AE1.html [影音] off the menu - Cherokee\n",
            "10/08 https://www.ptt.cc/bbs/KR_Bands/M.1696741725.A.1D6.html [影音] JANNABI - 2023 PARK CONCERT LIVE\n",
            "10/15 https://www.ptt.cc/bbs/KR_Bands/M.1697357715.A.A47.html [情報] 2023 9-10月 韓國樂團情報\n",
            "11/05 https://www.ptt.cc/bbs/KR_Bands/M.1699178163.A.F37.html [情報] 五月五日 正規一輯 [Campo] \n",
            "12/22 https://www.ptt.cc/bbs/KR_Bands/M.1577027498.A.E05.html [公告] Kr_Bands板規(2019.12.22)\n",
            "12/22 https://www.ptt.cc/bbs/KR_Bands/M.1577029873.A.32B.html [情報] SuperBand相關整理\n",
            " 1/01 https://www.ptt.cc/bbs/KR_Bands/M.1577813583.A.298.html [公告] Kr_Bands一月閒聊區\n",
            "第 2 頁\n",
            " 8/19 https://www.ptt.cc/bbs/KR_Bands/M.1692440311.A.18A.html [影音] ADOY - Model\n",
            " 8/19 https://www.ptt.cc/bbs/KR_Bands/M.1692440464.A.14A.html [影音] Soul delivery - Whiskey (w/SOLE,THAMA)\n",
            " 8/20 https://www.ptt.cc/bbs/KR_Bands/M.1692504762.A.C68.html [情報] Lacuna - Summer Cosmos\n",
            " 8/20 https://www.ptt.cc/bbs/KR_Bands/M.1692524603.A.EC1.html [影音] NELL - Wanderer\n",
            " 8/20 https://www.ptt.cc/bbs/KR_Bands/M.1692524838.A.A89.html [影音] THE SEASONS Vol.11 - 10CM\n",
            " 8/20 https://www.ptt.cc/bbs/KR_Bands/M.1692524895.A.61C.html [影音] zzzaam - shine\n",
            " 8/20 https://www.ptt.cc/bbs/KR_Bands/M.1692525025.A.1B6.html [影音] oomool - 時空 Spatiotemporal \n",
            " 8/20 https://www.ptt.cc/bbs/KR_Bands/M.1692525189.A.1A7.html [影音] LUCY - Haze\n",
            " 8/20 https://www.ptt.cc/bbs/KR_Bands/M.1692525225.A.CB8.html [影音] 1/N - Rubber Ball\n",
            " 8/20 https://www.ptt.cc/bbs/KR_Bands/M.1692525366.A.C33.html [影音] LUCY - Still Fighting (戲劇OST)\n",
            " 8/20 https://www.ptt.cc/bbs/KR_Bands/M.1692525448.A.7F6.html [影音] The VANE - Say Again (戲劇OST)\n",
            " 8/20 https://www.ptt.cc/bbs/KR_Bands/M.1692525515.A.16D.html [影音] CRYING NUT - Hero (戲劇OST)\n",
            " 8/20 https://www.ptt.cc/bbs/KR_Bands/M.1692525668.A.694.html [影音] Nerd Connection - If I have you only\n",
            " 8/20 https://www.ptt.cc/bbs/KR_Bands/M.1692525787.A.15D.html [情報] 金禮智 - Villain (戲劇OST)\n",
            " 8/20 https://www.ptt.cc/bbs/KR_Bands/M.1692525992.A.DC3.html [影音] Dasutt - 空夜(Lonely night) (戲劇OST)\n",
            " 8/20 https://www.ptt.cc/bbs/KR_Bands/M.1692526052.A.4B3.html [影音] 任閏聲 - Venom (戲劇OST)\n",
            " 8/20 https://www.ptt.cc/bbs/KR_Bands/M.1692526124.A.5D1.html [影音] LUCY - Love is Here (戲劇OST)\n",
            " 8/20 https://www.ptt.cc/bbs/KR_Bands/M.1692526203.A.6C2.html [影音] Vincent - Brand New Me (戲劇OST)\n",
            " 8/28 https://www.ptt.cc/bbs/KR_Bands/M.1693214245.A.52D.html [情報] THORNAPPLE - 動物 Animal\n",
            " 8/29 https://www.ptt.cc/bbs/KR_Bands/M.1693324203.A.60D.html [影音] ONEWE - SALTY BOY\n",
            "第 3 頁\n",
            " 8/06 https://www.ptt.cc/bbs/KR_Bands/M.1691326295.A.6B3.html [情報] The VANE - Hide (戲劇OST)\n",
            " 8/06 https://www.ptt.cc/bbs/KR_Bands/M.1691326723.A.B32.html [情報] SE SO NEON - Kidd \n",
            " 8/06 https://www.ptt.cc/bbs/KR_Bands/M.1691327328.A.B1F.html [情報] Bosudong Cooler - Betty \n",
            " 8/06 https://www.ptt.cc/bbs/KR_Bands/M.1691328287.A.542.html [情報] 2MORΣLOW - Shortcut \n",
            " 8/06 https://www.ptt.cc/bbs/KR_Bands/M.1691328813.A.F5F.html [情報] Low Hanging Fruits - Together\n",
            " 8/10 https://www.ptt.cc/bbs/KR_Bands/M.1691670313.A.3AF.html [情報] SE SO NEON世巡台北站@Legacy\n",
            " 8/19 https://www.ptt.cc/bbs/KR_Bands/M.1692437545.A.95F.html [情報] Silica Gel - Tik Tak Tok\n",
            " 8/19 https://www.ptt.cc/bbs/KR_Bands/M.1692438404.A.A7D.html [情報] Dear Cloud - Island\n",
            " 8/19 https://www.ptt.cc/bbs/KR_Bands/M.1692438937.A.046.html [情報] Moskva Surfing Club - Prozac\n",
            " 8/19 https://www.ptt.cc/bbs/KR_Bands/M.1692439155.A.323.html [情報] 12BH - Love my youth\n",
            " 8/19 https://www.ptt.cc/bbs/KR_Bands/M.1692439394.A.4EA.html [影音] BluePaprika - Really, you\n",
            " 8/19 https://www.ptt.cc/bbs/KR_Bands/M.1692439475.A.87B.html [影音] 92914 - By The Calm Water\n",
            " 8/19 https://www.ptt.cc/bbs/KR_Bands/M.1692439645.A.B5D.html [影音] Galaxy Express - Choose the Bad One\n",
            " 8/19 https://www.ptt.cc/bbs/KR_Bands/M.1692439712.A.C2E.html [影音] Krr - Passed by\n",
            " 8/19 https://www.ptt.cc/bbs/KR_Bands/M.1692439793.A.569.html [影音] BenchWeLeo - Raven (Odin's)\n",
            " 8/19 https://www.ptt.cc/bbs/KR_Bands/M.1692439898.A.CF1.html [影音] HeyMen - Shelter\n",
            " 8/19 https://www.ptt.cc/bbs/KR_Bands/M.1692439938.A.7F5.html [影音] 87dance - 青色東京\n",
            " 8/19 https://www.ptt.cc/bbs/KR_Bands/M.1692440119.A.913.html [影音] Romantic Punch - Da-Jung Punk Gen.\n",
            " 8/19 https://www.ptt.cc/bbs/KR_Bands/M.1692440205.A.A27.html [影音] IDIOTAPE - Acid Punk\n",
            " 8/19 https://www.ptt.cc/bbs/KR_Bands/M.1692440264.A.858.html [影音] Kitak - Loosing game\n",
            "第 4 頁\n",
            " 6/10 https://www.ptt.cc/bbs/KR_Bands/M.1686379568.A.844.html [影音] ONSTAGE - So!YooN!\n",
            " 6/11 https://www.ptt.cc/bbs/KR_Bands/M.1686492862.A.238.html [影音] Guckkasten-Crack(遊戲OST)\n",
            " 6/14 https://www.ptt.cc/bbs/KR_Bands/M.1686745622.A.19E.html [情報] hathaw9y正規一輯 [Essential]\n",
            " 6/17 https://www.ptt.cc/bbs/KR_Bands/M.1686990459.A.896.html [情報] ADOY Remake Album [us]\n",
            " 6/22 https://www.ptt.cc/bbs/KR_Bands/M.1687366189.A.814.html [影音] Jannabi - pony\n",
            " 6/22 https://www.ptt.cc/bbs/KR_Bands/M.1687366318.A.91B.html [影音] KARDI - PARTY \n",
            " 6/22 https://www.ptt.cc/bbs/KR_Bands/M.1687428928.A.102.html [影音] 10CM X LUCY - 不變的初戀\n",
            " 6/24 https://www.ptt.cc/bbs/KR_Bands/M.1687599904.A.96D.html [情報] 《韓國樂團新歌情報》#10 230605~230624 \n",
            " 6/30 https://www.ptt.cc/bbs/KR_Bands/M.1688136153.A.6CC.html [影音] 河鉉雨X金倫我ENDWALKER-Footfalls\n",
            " 7/04 https://www.ptt.cc/bbs/KR_Bands/M.1688478081.A.622.html [影音] 金倫我-Flow(遊戲OST)\n",
            " 7/08 https://www.ptt.cc/bbs/KR_Bands/M.1688825188.A.A73.html [影音] 河鉉雨-Close in the Distance(遊戲OST）\n",
            " 7/16 https://www.ptt.cc/bbs/KR_Bands/M.1689492016.A.F59.html [情報] 《韓國樂團新歌情報》#11 230625-230630 \n",
            " 7/16 https://www.ptt.cc/bbs/KR_Bands/M.1689494141.A.EF1.html [情報] 《韓國樂團新歌情報》#12 230701-230715\n",
            " 8/06 https://www.ptt.cc/bbs/KR_Bands/M.1691316922.A.6C4.html [情報] KARDI 正規一輯 [Inside Out] \n",
            " 8/06 https://www.ptt.cc/bbs/KR_Bands/M.1691316993.A.141.html [影音] KARDI - When I Move (K909)\n",
            " 8/06 https://www.ptt.cc/bbs/KR_Bands/M.1691317690.A.8C9.html [情報] 空中陰影 - 光源 (Light Source)\n",
            " 8/06 https://www.ptt.cc/bbs/KR_Bands/M.1691318128.A.556.html [情報] Tuesday Beach Club -  Lean\n",
            " 8/06 https://www.ptt.cc/bbs/KR_Bands/M.1691318631.A.CA9.html [情報] The Rose - Back To Me / Alive\n",
            " 8/06 https://www.ptt.cc/bbs/KR_Bands/M.1691319091.A.F7D.html [情報] FRankly - Rainy Day \n",
            " 8/06 https://www.ptt.cc/bbs/KR_Bands/M.1691325682.A.93B.html [情報] After Thoughts - Village\n",
            "第 5 頁\n",
            " 3/30 https://www.ptt.cc/bbs/KR_Bands/M.1680188867.A.BA8.html [情報] Dasutt - 我真的希望我能平安到達\n",
            " 4/01 https://www.ptt.cc/bbs/KR_Bands/M.1680357065.A.30A.html [情報] 《韓國樂團新歌情報》#1  230325~230401\n",
            " 4/04 https://www.ptt.cc/bbs/KR_Bands/M.1680615035.A.16B.html [影音] KBS 朴載範的Drive - SORAN, So!YoON!\n",
            " 4/04 https://www.ptt.cc/bbs/KR_Bands/M.1680615395.A.396.html [影音] KBS 朴載範的Drive - PEPPERTONES\n",
            " 4/09 https://www.ptt.cc/bbs/KR_Bands/M.1681027096.A.1C6.html [情報] 《韓國樂團新歌情報》#2  230402~230408\n",
            " 4/20 https://www.ptt.cc/bbs/KR_Bands/M.1682001696.A.418.html [情報] GIUK - Psycho Xybernetics : TURN OVER\n",
            " 4/20 https://www.ptt.cc/bbs/KR_Bands/M.1682003218.A.C1F.html [問題] SE SO NEON 唱的這首有MV嗎？ \n",
            " 4/21 https://www.ptt.cc/bbs/KR_Bands/M.1682006552.A.380.html [情報] wave to earth - 0.1 flaws and all.\n",
            " 4/21 https://www.ptt.cc/bbs/KR_Bands/M.1682007388.A.74C.html [情報] 《韓國樂團新歌情報》#3 230409~230415\n",
            " 4/24 https://www.ptt.cc/bbs/KR_Bands/M.1682343880.A.7F6.html [情報] 《韓國樂團新歌情報》#4 230416~230422\n",
            " 4/30 https://www.ptt.cc/bbs/KR_Bands/M.1682835356.A.82F.html [情報] 《韓國樂團新歌情報》#5 230423~230430\n",
            " 5/07 https://www.ptt.cc/bbs/KR_Bands/M.1683437296.A.92C.html [情報] 《韓國樂團新歌情報》#6 230501~230507\n",
            " 5/14 https://www.ptt.cc/bbs/KR_Bands/M.1684060882.A.DCA.html [情報] 10CM - 5.4 [不變的初戀]\n",
            " 5/14 https://www.ptt.cc/bbs/KR_Bands/M.1684061711.A.ABE.html [情報] 《韓國樂團新歌情報》#7 230508~230514\n",
            " 5/21 https://www.ptt.cc/bbs/KR_Bands/M.1684665174.A.A82.html [情報] CADEJO - 自由 FREEDOM\n",
            " 5/21 https://www.ptt.cc/bbs/KR_Bands/M.1684667971.A.AD9.html [情報] 《韓國樂團新歌情報》#8 230515~230521\n",
            " 5/23 https://www.ptt.cc/bbs/KR_Bands/M.1684841983.A.518.html [情報] Glen Check - Pulp\n",
            " 5/26 https://www.ptt.cc/bbs/KR_Bands/M.1685103109.A.76D.html [情報] ADOY 2023 Live Show 7/2台北\n",
            " 5/28 https://www.ptt.cc/bbs/KR_Bands/M.1685271241.A.275.html [影音] 10CM 不變的初戀 大規模合奏挑戰\n",
            " 6/04 https://www.ptt.cc/bbs/KR_Bands/M.1685860259.A.A3F.html [情報] 《韓國樂團新歌情報》#9 230522~230604\n"
          ]
        }
      ]
    },
    {
      "cell_type": "code",
      "source": [
        "import requests\n",
        "from bs4 import BeautifulSoup\n",
        "url = 'https://www.ptt.cc/bbs/KR_Bands/index.html'\n",
        "cookies = {'over18':'1'}\n",
        "r = requests.get(url, cookies=cookies)\n",
        "sp = BeautifulSoup(r.text, 'html.parser')\n",
        "datas = sp.find_all(\"div\", class_='r-ent')\n",
        "for data in datas:\n",
        "    if data.a:\n",
        "        print(data.find('div', class_='date').text, end=' ')\n",
        "        print('https://www.ptt.cc' + data.a.get('href'), end= ' ')\n",
        "        print(data.a.text)"
      ],
      "metadata": {
        "colab": {
          "base_uri": "https://localhost:8080/"
        },
        "id": "SOhqfHvNSV12",
        "outputId": "1da0c01f-7174-48a5-fa37-c0af134cbb10"
      },
      "execution_count": 5,
      "outputs": [
        {
          "output_type": "stream",
          "name": "stdout",
          "text": [
            " 8/29 https://www.ptt.cc/bbs/KR_Bands/M.1693324272.A.F47.html [影音] CHASEDAE - BLUE GIANT\n",
            " 8/29 https://www.ptt.cc/bbs/KR_Bands/M.1693324343.A.B0D.html [影音] 河鉉雨 - Go Ahead (戲劇OST)\n",
            " 8/29 https://www.ptt.cc/bbs/KR_Bands/M.1693324446.A.09C.html [影音] Isaac Hong - Shoot At Me\n",
            " 8/31 https://www.ptt.cc/bbs/KR_Bands/M.1693474469.A.DB6.html [影音] ONEWE - 東西南北\n",
            " 8/31 https://www.ptt.cc/bbs/KR_Bands/M.1693492255.A.555.html [情報] ADOY - PLEASURES\n",
            " 9/03 https://www.ptt.cc/bbs/KR_Bands/M.1693753725.A.C44.html [影音] Guckkasten正規三新曲Angstblute搶先聽！\n",
            " 9/10 https://www.ptt.cc/bbs/KR_Bands/M.1694352567.A.E01.html [影音] Sion - 走在記憶的時間 (ft. 10CM)\n",
            " 9/10 https://www.ptt.cc/bbs/KR_Bands/M.1694352610.A.AE1.html [影音] off the menu - Cherokee\n",
            "10/08 https://www.ptt.cc/bbs/KR_Bands/M.1696741725.A.1D6.html [影音] JANNABI - 2023 PARK CONCERT LIVE\n",
            "10/15 https://www.ptt.cc/bbs/KR_Bands/M.1697357715.A.A47.html [情報] 2023 9-10月 韓國樂團情報\n",
            "11/05 https://www.ptt.cc/bbs/KR_Bands/M.1699178163.A.F37.html [情報] 五月五日 正規一輯 [Campo] \n",
            "12/22 https://www.ptt.cc/bbs/KR_Bands/M.1577027498.A.E05.html [公告] Kr_Bands板規(2019.12.22)\n",
            "12/22 https://www.ptt.cc/bbs/KR_Bands/M.1577029873.A.32B.html [情報] SuperBand相關整理\n",
            " 1/01 https://www.ptt.cc/bbs/KR_Bands/M.1577813583.A.298.html [公告] Kr_Bands一月閒聊區\n"
          ]
        }
      ]
    },
    {
      "cell_type": "code",
      "source": [
        "!pip install gspread oauth2client"
      ],
      "metadata": {
        "colab": {
          "base_uri": "https://localhost:8080/"
        },
        "id": "i9UuPMARTfZR",
        "outputId": "e707a6e1-8080-4819-9685-2bc1567a5d07"
      },
      "execution_count": 6,
      "outputs": [
        {
          "output_type": "stream",
          "name": "stdout",
          "text": [
            "Requirement already satisfied: gspread in /usr/local/lib/python3.10/dist-packages (3.4.2)\n",
            "Requirement already satisfied: oauth2client in /usr/local/lib/python3.10/dist-packages (4.1.3)\n",
            "Requirement already satisfied: requests>=2.2.1 in /usr/local/lib/python3.10/dist-packages (from gspread) (2.31.0)\n",
            "Requirement already satisfied: google-auth in /usr/local/lib/python3.10/dist-packages (from gspread) (2.17.3)\n",
            "Requirement already satisfied: httplib2>=0.9.1 in /usr/local/lib/python3.10/dist-packages (from oauth2client) (0.22.0)\n",
            "Requirement already satisfied: pyasn1>=0.1.7 in /usr/local/lib/python3.10/dist-packages (from oauth2client) (0.5.0)\n",
            "Requirement already satisfied: pyasn1-modules>=0.0.5 in /usr/local/lib/python3.10/dist-packages (from oauth2client) (0.3.0)\n",
            "Requirement already satisfied: rsa>=3.1.4 in /usr/local/lib/python3.10/dist-packages (from oauth2client) (4.9)\n",
            "Requirement already satisfied: six>=1.6.1 in /usr/local/lib/python3.10/dist-packages (from oauth2client) (1.16.0)\n",
            "Requirement already satisfied: pyparsing!=3.0.0,!=3.0.1,!=3.0.2,!=3.0.3,<4,>=2.4.2 in /usr/local/lib/python3.10/dist-packages (from httplib2>=0.9.1->oauth2client) (3.1.1)\n",
            "Requirement already satisfied: charset-normalizer<4,>=2 in /usr/local/lib/python3.10/dist-packages (from requests>=2.2.1->gspread) (3.3.2)\n",
            "Requirement already satisfied: idna<4,>=2.5 in /usr/local/lib/python3.10/dist-packages (from requests>=2.2.1->gspread) (3.4)\n",
            "Requirement already satisfied: urllib3<3,>=1.21.1 in /usr/local/lib/python3.10/dist-packages (from requests>=2.2.1->gspread) (2.0.7)\n",
            "Requirement already satisfied: certifi>=2017.4.17 in /usr/local/lib/python3.10/dist-packages (from requests>=2.2.1->gspread) (2023.7.22)\n",
            "Requirement already satisfied: cachetools<6.0,>=2.0.0 in /usr/local/lib/python3.10/dist-packages (from google-auth->gspread) (5.3.2)\n"
          ]
        }
      ]
    },
    {
      "cell_type": "code",
      "source": [
        "from IPython.core.interactiveshell import page\n",
        "import requests\n",
        "from bs4 import BeautifulSoup\n",
        "import gspread, time\n",
        "from oauth2client.service_account import ServiceAccountCredentials as sac\n",
        "\n",
        "#從ptt抓取資料\n",
        "url = 'https://www.ptt.cc/bbs/KR_Bands/index.html'\n",
        "r = requests.get(url)\n",
        "soup = BeautifulSoup(r.content,'html.parser')\n",
        "\n",
        "data_to_write = []  # 儲存資料列表\n",
        "\n",
        "#找出3頁的日期、連結和標題\n",
        "for i in range(3):\n",
        "    r = requests.get(url)\n",
        "    sp = BeautifulSoup(r.text, 'html.parser')\n",
        "    datas = sp.find_all(\"div\", class_='r-ent')\n",
        "    for data in datas:\n",
        "        if data.a:\n",
        "         date = data.find('div', class_='date').text\n",
        "         link = 'https://www.ptt.cc' + data.a.get('href')\n",
        "         title = data.a.text\n",
        "         data_to_write.append([date, link, title])\n",
        "\n",
        "    url ='https://www.ptt.cc' + sp.find_all('a', class_='btn wide')[1].get('href')\n",
        "\n",
        "#驗證範圍和輸入金鑰\n",
        "auth_json = 'lucid-shuttle-404111-4b594605c9ee.json'   #金鑰\n",
        "gs_scopes = ['https://spreadsheets.google.com/feeds']\n",
        "\n",
        "# 連線\n",
        "cr = sac.from_json_keyfile_name(auth_json, gs_scopes)\n",
        "gc = gspread.authorize(cr)\n",
        "\n",
        "#open資料表\n",
        "spreadsheet_key = '1FJ3vwv4Y5rSOPyz1WtaIh3snW3MA3SSy9j3k9kSBYsw'   # 要寫入的Google試算表ID\n",
        "sheet = gc.open_by_key(spreadsheet_key)\n",
        "\n",
        "# 將資料寫入 Google 試算表\n",
        "wks = sheet.get_worksheet(0)\n",
        "wks.clear()\n",
        "\n",
        "for item in data_to_write:\n",
        "    wks.append_row(item)\n",
        "    time.sleep(1)\n",
        "\n",
        "print(\"Google試算表寫入完成！\")"
      ],
      "metadata": {
        "id": "XIvcexBW5-TK",
        "colab": {
          "base_uri": "https://localhost:8080/"
        },
        "outputId": "85d86642-7cb8-4e6b-e8e3-1603d2f3cb35"
      },
      "execution_count": 13,
      "outputs": [
        {
          "output_type": "stream",
          "name": "stdout",
          "text": [
            "Google試算表寫入完成！\n"
          ]
        }
      ]
    }
  ]
}